{
 "cells": [
  {
   "cell_type": "markdown",
   "metadata": {},
   "source": [
    "## Ссылки\n",
    "1. [Напряжённость гравитационного поля (Вики)](https://ru.wikipedia.org/wiki/Напряжённость_гравитационного_поля)"
   ]
  },
  {
   "cell_type": "code",
   "execution_count": null,
   "metadata": {},
   "outputs": [],
   "source": [
    "\n",
    "%pip install matplotlib\n",
    "import matplotlib"
   ]
  },
  {
   "cell_type": "code",
   "execution_count": null,
   "metadata": {},
   "outputs": [],
   "source": [
    "# Напряжённость гравитационного поля (через силу всемирного тяготения)\n",
    "# m = [Кг] - Масса объекта\n",
    "# r = [м]  - Расстоание от точки до центра массы земли\n",
    "def e(m: float, r: float) -> float:\n",
    "    # Гравитационная постоянная\n",
    "    g = 6.67428e-11\n",
    "    # Масса земли (кг)\n",
    "    earth = 5.9742e+24\n",
    "    # Сила тяготения между землёй и \n",
    "    f = g * (m * earth) / r**2\n",
    "    return f/m"
   ]
  }
 ],
 "metadata": {
  "interpreter": {
   "hash": "7bf70bb76090f7e5d95debb068e6b61761db97873acc94752f81c871eab32f15"
  },
  "kernelspec": {
   "display_name": "Python 3.9.7 ('base')",
   "language": "python",
   "name": "python3"
  },
  "language_info": {
   "codemirror_mode": {
    "name": "ipython",
    "version": 3
   },
   "file_extension": ".py",
   "mimetype": "text/x-python",
   "name": "python",
   "nbconvert_exporter": "python",
   "pygments_lexer": "ipython3",
   "version": "3.9.7"
  },
  "orig_nbformat": 4
 },
 "nbformat": 4,
 "nbformat_minor": 2
}
